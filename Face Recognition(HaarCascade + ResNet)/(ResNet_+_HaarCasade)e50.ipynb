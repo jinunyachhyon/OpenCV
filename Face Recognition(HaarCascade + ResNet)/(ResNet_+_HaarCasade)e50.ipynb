{
  "nbformat": 4,
  "nbformat_minor": 0,
  "metadata": {
    "colab": {
      "provenance": [],
      "gpuType": "T4"
    },
    "kernelspec": {
      "name": "python3",
      "display_name": "Python 3"
    },
    "language_info": {
      "name": "python"
    },
    "accelerator": "GPU"
  },
  "cells": [
    {
      "cell_type": "markdown",
      "source": [
        "# ResNet50 model"
      ],
      "metadata": {
        "id": "5BF2JGdEqOhv"
      }
    },
    {
      "cell_type": "code",
      "execution_count": 1,
      "metadata": {
        "id": "WQJ-BdHRm5-K"
      },
      "outputs": [],
      "source": [
        "import torch\n",
        "import torch.nn as nn\n",
        "\n",
        "class block(nn.Module):\n",
        "  # Identity downsample for conv layer for projection shortcut\n",
        "  def __init__(self, in_channels, out_channels, identity_downsample=None, stride=1):\n",
        "    super(block,self).__init__()\n",
        "    self.expansion = 4\n",
        "\n",
        "    self.conv1 = nn.Conv2d(in_channels, out_channels, kernel_size=1, stride=1, padding=0)\n",
        "    self.bn1 = nn.BatchNorm2d(out_channels)\n",
        "    self.conv2 = nn.Conv2d(out_channels, out_channels, kernel_size=3, stride=stride, padding=1)\n",
        "    self.bn2 = nn.BatchNorm2d(out_channels)\n",
        "    self.conv3 = nn.Conv2d(out_channels, out_channels*self.expansion, kernel_size=1, stride=1, padding=0)\n",
        "    self.bn3 = nn.BatchNorm2d(out_channels*self.expansion)\n",
        "\n",
        "    self.relu = nn.ReLU()\n",
        "\n",
        "    self.identity_downsample = identity_downsample\n",
        "\n",
        "  def forward(self, x):\n",
        "    identity = x\n",
        "\n",
        "    x = self.conv1(x)\n",
        "    x = self.bn1(x)\n",
        "    x = self.relu(x)\n",
        "\n",
        "    x = self.conv2(x)\n",
        "    x = self.bn2(x)\n",
        "    x = self.relu(x)\n",
        "\n",
        "    x = self.conv3(x)\n",
        "    x = self.bn3(x)\n",
        "\n",
        "    if self.identity_downsample is not None:\n",
        "      identity = self.identity_downsample(identity)\n",
        "\n",
        "    x += identity\n",
        "    x = self.relu(x)\n",
        "    return x\n",
        "\n",
        "\n",
        "class ResNet(nn.Module):\n",
        "  def __init__(self, block, layers, image_channels, num_classes):\n",
        "    super(ResNet, self).__init__()\n",
        "    self.in_channels = 64 # Since, in resnet the input channel starts from 64\n",
        "\n",
        "    # For Conv1 (image_channels in start is 1(GrayScale) --> after conv layer 64)\n",
        "    self.conv1 = nn.Conv2d(image_channels, 64, kernel_size=7, stride=2, padding=3)\n",
        "    self.bn1 = nn.BatchNorm2d(64)\n",
        "    self.relu = nn.ReLU()\n",
        "\n",
        "    # For Maxpool (channel 64 remains constant, spatial dimension decreases in half)\n",
        "    self.maxpool = nn.MaxPool2d(kernel_size=3, stride=2, padding=1)\n",
        "\n",
        "    # ResNet layers (In ResNet50, there are 4 layers where, in each layer the blocks are repeated [3,4,6,3] times)\n",
        "    self.layer1 = self._make_layer(block, layers[0], out_channels=64, stride=1)\n",
        "    self.layer2 = self._make_layer(block, layers[1], out_channels=128, stride=2)\n",
        "    self.layer3 = self._make_layer(block, layers[2], out_channels=256, stride=2)\n",
        "    self.layer4 = self._make_layer(block, layers[3], out_channels=512, stride=2)\n",
        "\n",
        "    # For Avg. Pooling such that the output is 2048x1x1 so Adaptive Pooling applied accordingly\n",
        "    self.avgpool = nn.AdaptiveAvgPool2d((1,1))\n",
        "\n",
        "    # For final fully connected layer\n",
        "    self.fc = nn.Linear(2048*1*1, num_classes)\n",
        "\n",
        "  def forward(self,x):\n",
        "    x = self.conv1(x)\n",
        "    x = self.bn1(x)\n",
        "    x = self.relu(x)\n",
        "    x = self.maxpool(x)\n",
        "\n",
        "    x = self.layer1(x)\n",
        "    x = self.layer2(x)\n",
        "    x = self.layer3(x)\n",
        "    x = self.layer4(x)\n",
        "\n",
        "    x = self.avgpool(x)\n",
        "    x = x.reshape(x.shape[0],-1)\n",
        "    x = self.fc(x)\n",
        "    return x\n",
        "\n",
        "  def _make_layer(self, block, num_residual_blocks, out_channels, stride):\n",
        "    identity_downsample = None\n",
        "    layers = []\n",
        "\n",
        "    if stride!=1 or self.in_channels != out_channels*4 :\n",
        "      identity_downsample = nn.Sequential(nn.Conv2d(self.in_channels, out_channels*4, kernel_size=1,\n",
        "                                                    stride=stride),\n",
        "                                          nn.BatchNorm2d(out_channels*4))\n",
        "\n",
        "    layers.append(block(self.in_channels, out_channels, identity_downsample, stride))\n",
        "    self.in_channels = out_channels*4\n",
        "\n",
        "    for i in range(num_residual_blocks - 1):\n",
        "      layers.append(block(self.in_channels, out_channels))\n",
        "\n",
        "    return nn.Sequential(*layers)\n",
        "\n",
        "# Creating the model\n",
        "def ResNet50(image_channels=3, num_classes=1000):\n",
        "  return ResNet(block, [3,4,6,3], image_channels, num_classes)\n",
        "\n",
        "\n",
        "# Validating the model with example (1 image with shape=3x224x224)\n",
        "model = ResNet50(image_channels=3, num_classes=5)\n",
        "x = torch.randn(5, 3, 224, 224)\n",
        "# print(model(x).shape) # Output: torch.Size([5, 5])"
      ]
    },
    {
      "cell_type": "markdown",
      "source": [
        "# Training"
      ],
      "metadata": {
        "id": "ExZHVk53qSDu"
      }
    },
    {
      "cell_type": "code",
      "source": [
        "import os\n",
        "import cv2 as cv\n",
        "import numpy as np\n",
        "import torch\n",
        "import torch.nn as nn\n",
        "from torchvision.transforms import ToTensor\n",
        "\n",
        "device = \"cuda\" if torch.cuda.is_available() else \"cpu\"\n",
        "\n",
        "people = ['Ben Afflek', 'Elton John', 'Jerry Seinfield', 'Madonna', 'Mindy Kaling']\n",
        "DIR = r'/content/drive/MyDrive/Faces/train' # Directory of the training images\n",
        "\n",
        "haar_cascade = cv.CascadeClassifier('/content/haarcascade_frontalface_default.xml')\n",
        "\n",
        "dataset = [] # List of tuples (image, label)\n",
        "def create_train():\n",
        "    \"\"\"\n",
        "    Loops over every folder in the base folder(training folder).\n",
        "    And inside that folder, loop over every image and grab that face in that image\n",
        "    and add it to the training set.\n",
        "    \"\"\"\n",
        "    for person in people:\n",
        "        \"\"\"Loop over every folder\"\"\"\n",
        "        path = os.path.join(DIR, person) # Path to the folder of the person\n",
        "        label = people.index(person) # Label of the person\n",
        "\n",
        "        for img in os.listdir(path):\n",
        "            \"\"\"Loop over every image\"\"\"\n",
        "            img_path = os.path.join(path, img) # Path to the image\n",
        "\n",
        "            img_array = cv.imread(img_path) # Read the image\n",
        "\n",
        "            faces_rect = haar_cascade.detectMultiScale(img_array, scaleFactor=1.1, minNeighbors=4)\n",
        "\n",
        "            for (x,y,w,h) in faces_rect:\n",
        "                \"\"\"Grab the face in the image\"\"\"\n",
        "                faces_roi = img_array[y:y+h, x:x+w] # Region of interest\n",
        "                faces_roi = cv.resize(faces_roi, (224,224), interpolation=cv.INTER_NEAREST)\n",
        "                dataset.append((faces_roi, label))\n",
        "\n",
        "# Create the training set\n",
        "create_train()\n",
        "\n",
        "# Convert the images to tensors\n",
        "dataset = [(ToTensor()(img), label) for img, label in dataset]\n",
        "\n",
        "# Create the training loader\n",
        "from torch.utils.data import DataLoader\n",
        "train_loader = torch.utils.data.DataLoader(dataset, batch_size=10, shuffle=True)\n",
        "\n",
        "# Instantiate the model\n",
        "model = ResNet50(image_channels=3, num_classes=5).to(device)\n",
        "\n",
        "# Loss and optimizer\n",
        "import torch.optim as optim\n",
        "criterion = nn.CrossEntropyLoss()\n",
        "optimizer = optim.Adam(model.parameters(), lr=0.001)\n",
        "\n",
        "# Train the model\n",
        "from tqdm import tqdm\n",
        "import time\n",
        "\n",
        "for epoch in tqdm(range(50), desc='Epochs'):\n",
        "\n",
        "    model.train() # Set the model to training mode\n",
        "    start_time = time.time() # Start time of the epoch\n",
        "\n",
        "    running_loss = 0.0\n",
        "    running_corrects = 0\n",
        "\n",
        "    # Iterate over the training data in batches\n",
        "    for inputs, labels in train_loader:\n",
        "        # Move the inputs and labels to the selected device\n",
        "        inputs = inputs.to(device)\n",
        "        labels = labels.to(device)\n",
        "\n",
        "        # Forward pass\n",
        "        outputs = model(inputs)\n",
        "\n",
        "        # Calculate the loss\n",
        "        loss = criterion(outputs, labels)\n",
        "\n",
        "        # Backward pass and optimization\n",
        "        optimizer.zero_grad()\n",
        "        loss.backward()\n",
        "        optimizer.step()\n",
        "\n",
        "        # Update running loss and accuracy\n",
        "        running_loss += loss.item() * inputs.size(0)\n",
        "        _, preds = torch.max(outputs, 1)\n",
        "        running_corrects += torch.sum(preds == labels.data)\n",
        "\n",
        "    end_time = time.time()  # End time of the epoch\n",
        "    epoch_duration = end_time - start_time  # Duration of the epoch\n",
        "\n",
        "    # Calculate epoch loss and accuracy for training data\n",
        "    epoch_loss = running_loss / len(dataset)\n",
        "    epoch_acc = running_corrects.double() / len(dataset)\n",
        "\n",
        "    # Print the epoch duration\n",
        "    tqdm.write(f\"Epoch {epoch+1} completed in {epoch_duration:.2f} seconds\")\n",
        "\n",
        "    # Print the loss and accuracy\n",
        "    print(f\"Epoch [{epoch+1}/{50}], \"\n",
        "        f\"Overfit Loss: {epoch_loss:.4f}, Overfit Accuracy: {epoch_acc:.4f}\")\n",
        "\n",
        "# Save the model\n",
        "torch.save(model.state_dict(), 'resnet50.pth')\n"
      ],
      "metadata": {
        "colab": {
          "base_uri": "https://localhost:8080/"
        },
        "id": "FdUxzjITpLRY",
        "outputId": "555e9338-38d9-4fdb-98a5-8d5252c17bdc"
      },
      "execution_count": 2,
      "outputs": [
        {
          "output_type": "stream",
          "name": "stderr",
          "text": [
            "Epochs:   2%|▏         | 1/50 [00:09<07:31,  9.21s/it]"
          ]
        },
        {
          "output_type": "stream",
          "name": "stdout",
          "text": [
            "Epoch 1 completed in 9.20 seconds\n",
            "Epoch [1/50], Overfit Loss: 2.7642, Overfit Accuracy: 0.2600\n"
          ]
        },
        {
          "output_type": "stream",
          "name": "stderr",
          "text": [
            "Epochs:   4%|▍         | 2/50 [00:10<03:32,  4.43s/it]"
          ]
        },
        {
          "output_type": "stream",
          "name": "stdout",
          "text": [
            "Epoch 2 completed in 1.07 seconds\n",
            "Epoch [2/50], Overfit Loss: 1.8284, Overfit Accuracy: 0.3000\n"
          ]
        },
        {
          "output_type": "stream",
          "name": "stderr",
          "text": [
            "Epochs:   6%|▌         | 3/50 [00:11<02:16,  2.90s/it]"
          ]
        },
        {
          "output_type": "stream",
          "name": "stdout",
          "text": [
            "Epoch 3 completed in 1.07 seconds\n",
            "Epoch [3/50], Overfit Loss: 1.5788, Overfit Accuracy: 0.3100\n"
          ]
        },
        {
          "output_type": "stream",
          "name": "stderr",
          "text": [
            "Epochs:   8%|▊         | 4/50 [00:12<01:40,  2.18s/it]"
          ]
        },
        {
          "output_type": "stream",
          "name": "stdout",
          "text": [
            "Epoch 4 completed in 1.07 seconds\n",
            "Epoch [4/50], Overfit Loss: 1.5385, Overfit Accuracy: 0.3200\n"
          ]
        },
        {
          "output_type": "stream",
          "name": "stderr",
          "text": [
            "Epochs:  10%|█         | 5/50 [00:13<01:20,  1.79s/it]"
          ]
        },
        {
          "output_type": "stream",
          "name": "stdout",
          "text": [
            "Epoch 5 completed in 1.07 seconds\n",
            "Epoch [5/50], Overfit Loss: 1.6962, Overfit Accuracy: 0.4100\n"
          ]
        },
        {
          "output_type": "stream",
          "name": "stderr",
          "text": [
            "Epochs:  12%|█▏        | 6/50 [00:14<01:08,  1.55s/it]"
          ]
        },
        {
          "output_type": "stream",
          "name": "stdout",
          "text": [
            "Epoch 6 completed in 1.07 seconds\n",
            "Epoch [6/50], Overfit Loss: 1.6597, Overfit Accuracy: 0.3700\n"
          ]
        },
        {
          "output_type": "stream",
          "name": "stderr",
          "text": [
            "Epochs:  14%|█▍        | 7/50 [00:15<01:00,  1.40s/it]"
          ]
        },
        {
          "output_type": "stream",
          "name": "stdout",
          "text": [
            "Epoch 7 completed in 1.07 seconds\n",
            "Epoch [7/50], Overfit Loss: 1.4163, Overfit Accuracy: 0.4100\n"
          ]
        },
        {
          "output_type": "stream",
          "name": "stderr",
          "text": [
            "Epochs:  16%|█▌        | 8/50 [00:16<00:54,  1.30s/it]"
          ]
        },
        {
          "output_type": "stream",
          "name": "stdout",
          "text": [
            "Epoch 8 completed in 1.07 seconds\n",
            "Epoch [8/50], Overfit Loss: 1.2429, Overfit Accuracy: 0.5100\n"
          ]
        },
        {
          "output_type": "stream",
          "name": "stderr",
          "text": [
            "Epochs:  18%|█▊        | 9/50 [00:17<00:50,  1.23s/it]"
          ]
        },
        {
          "output_type": "stream",
          "name": "stdout",
          "text": [
            "Epoch 9 completed in 1.07 seconds\n",
            "Epoch [9/50], Overfit Loss: 1.2046, Overfit Accuracy: 0.5200\n"
          ]
        },
        {
          "output_type": "stream",
          "name": "stderr",
          "text": [
            "Epochs:  20%|██        | 10/50 [00:18<00:47,  1.19s/it]"
          ]
        },
        {
          "output_type": "stream",
          "name": "stdout",
          "text": [
            "Epoch 10 completed in 1.07 seconds\n",
            "Epoch [10/50], Overfit Loss: 1.1950, Overfit Accuracy: 0.5900\n"
          ]
        },
        {
          "output_type": "stream",
          "name": "stderr",
          "text": [
            "Epochs:  22%|██▏       | 11/50 [00:20<00:45,  1.16s/it]"
          ]
        },
        {
          "output_type": "stream",
          "name": "stdout",
          "text": [
            "Epoch 11 completed in 1.08 seconds\n",
            "Epoch [11/50], Overfit Loss: 1.1632, Overfit Accuracy: 0.5400\n"
          ]
        },
        {
          "output_type": "stream",
          "name": "stderr",
          "text": [
            "Epochs:  24%|██▍       | 12/50 [00:21<00:43,  1.14s/it]"
          ]
        },
        {
          "output_type": "stream",
          "name": "stdout",
          "text": [
            "Epoch 12 completed in 1.08 seconds\n",
            "Epoch [12/50], Overfit Loss: 1.0095, Overfit Accuracy: 0.6400\n"
          ]
        },
        {
          "output_type": "stream",
          "name": "stderr",
          "text": [
            "Epochs:  26%|██▌       | 13/50 [00:22<00:41,  1.12s/it]"
          ]
        },
        {
          "output_type": "stream",
          "name": "stdout",
          "text": [
            "Epoch 13 completed in 1.08 seconds\n",
            "Epoch [13/50], Overfit Loss: 0.8866, Overfit Accuracy: 0.6300\n"
          ]
        },
        {
          "output_type": "stream",
          "name": "stderr",
          "text": [
            "Epochs:  28%|██▊       | 14/50 [00:23<00:40,  1.11s/it]"
          ]
        },
        {
          "output_type": "stream",
          "name": "stdout",
          "text": [
            "Epoch 14 completed in 1.07 seconds\n",
            "Epoch [14/50], Overfit Loss: 0.9306, Overfit Accuracy: 0.6500\n"
          ]
        },
        {
          "output_type": "stream",
          "name": "stderr",
          "text": [
            "Epochs:  30%|███       | 15/50 [00:24<00:38,  1.11s/it]"
          ]
        },
        {
          "output_type": "stream",
          "name": "stdout",
          "text": [
            "Epoch 15 completed in 1.08 seconds\n",
            "Epoch [15/50], Overfit Loss: 0.8052, Overfit Accuracy: 0.7300\n"
          ]
        },
        {
          "output_type": "stream",
          "name": "stderr",
          "text": [
            "Epochs:  32%|███▏      | 16/50 [00:25<00:37,  1.10s/it]"
          ]
        },
        {
          "output_type": "stream",
          "name": "stdout",
          "text": [
            "Epoch 16 completed in 1.08 seconds\n",
            "Epoch [16/50], Overfit Loss: 0.9423, Overfit Accuracy: 0.5900\n"
          ]
        },
        {
          "output_type": "stream",
          "name": "stderr",
          "text": [
            "Epochs:  34%|███▍      | 17/50 [00:26<00:36,  1.10s/it]"
          ]
        },
        {
          "output_type": "stream",
          "name": "stdout",
          "text": [
            "Epoch 17 completed in 1.07 seconds\n",
            "Epoch [17/50], Overfit Loss: 0.8185, Overfit Accuracy: 0.7000\n"
          ]
        },
        {
          "output_type": "stream",
          "name": "stderr",
          "text": [
            "Epochs:  36%|███▌      | 18/50 [00:27<00:35,  1.09s/it]"
          ]
        },
        {
          "output_type": "stream",
          "name": "stdout",
          "text": [
            "Epoch 18 completed in 1.08 seconds\n",
            "Epoch [18/50], Overfit Loss: 0.9646, Overfit Accuracy: 0.6600\n"
          ]
        },
        {
          "output_type": "stream",
          "name": "stderr",
          "text": [
            "Epochs:  38%|███▊      | 19/50 [00:28<00:33,  1.09s/it]"
          ]
        },
        {
          "output_type": "stream",
          "name": "stdout",
          "text": [
            "Epoch 19 completed in 1.08 seconds\n",
            "Epoch [19/50], Overfit Loss: 0.7224, Overfit Accuracy: 0.7400\n"
          ]
        },
        {
          "output_type": "stream",
          "name": "stderr",
          "text": [
            "Epochs:  40%|████      | 20/50 [00:29<00:32,  1.09s/it]"
          ]
        },
        {
          "output_type": "stream",
          "name": "stdout",
          "text": [
            "Epoch 20 completed in 1.08 seconds\n",
            "Epoch [20/50], Overfit Loss: 0.6912, Overfit Accuracy: 0.7000\n"
          ]
        },
        {
          "output_type": "stream",
          "name": "stderr",
          "text": [
            "Epochs:  42%|████▏     | 21/50 [00:30<00:31,  1.10s/it]"
          ]
        },
        {
          "output_type": "stream",
          "name": "stdout",
          "text": [
            "Epoch 21 completed in 1.08 seconds\n",
            "Epoch [21/50], Overfit Loss: 0.4992, Overfit Accuracy: 0.8400\n"
          ]
        },
        {
          "output_type": "stream",
          "name": "stderr",
          "text": [
            "Epochs:  44%|████▍     | 22/50 [00:32<00:30,  1.10s/it]"
          ]
        },
        {
          "output_type": "stream",
          "name": "stdout",
          "text": [
            "Epoch 22 completed in 1.09 seconds\n",
            "Epoch [22/50], Overfit Loss: 0.5093, Overfit Accuracy: 0.8200\n"
          ]
        },
        {
          "output_type": "stream",
          "name": "stderr",
          "text": [
            "Epochs:  46%|████▌     | 23/50 [00:33<00:29,  1.10s/it]"
          ]
        },
        {
          "output_type": "stream",
          "name": "stdout",
          "text": [
            "Epoch 23 completed in 1.09 seconds\n",
            "Epoch [23/50], Overfit Loss: 0.6005, Overfit Accuracy: 0.8000\n"
          ]
        },
        {
          "output_type": "stream",
          "name": "stderr",
          "text": [
            "Epochs:  48%|████▊     | 24/50 [00:34<00:28,  1.10s/it]"
          ]
        },
        {
          "output_type": "stream",
          "name": "stdout",
          "text": [
            "Epoch 24 completed in 1.09 seconds\n",
            "Epoch [24/50], Overfit Loss: 0.5922, Overfit Accuracy: 0.7500\n"
          ]
        },
        {
          "output_type": "stream",
          "name": "stderr",
          "text": [
            "Epochs:  50%|█████     | 25/50 [00:35<00:27,  1.10s/it]"
          ]
        },
        {
          "output_type": "stream",
          "name": "stdout",
          "text": [
            "Epoch 25 completed in 1.08 seconds\n",
            "Epoch [25/50], Overfit Loss: 0.5268, Overfit Accuracy: 0.8000\n"
          ]
        },
        {
          "output_type": "stream",
          "name": "stderr",
          "text": [
            "Epochs:  52%|█████▏    | 26/50 [00:36<00:26,  1.10s/it]"
          ]
        },
        {
          "output_type": "stream",
          "name": "stdout",
          "text": [
            "Epoch 26 completed in 1.08 seconds\n",
            "Epoch [26/50], Overfit Loss: 0.5926, Overfit Accuracy: 0.8100\n"
          ]
        },
        {
          "output_type": "stream",
          "name": "stderr",
          "text": [
            "Epochs:  54%|█████▍    | 27/50 [00:37<00:25,  1.10s/it]"
          ]
        },
        {
          "output_type": "stream",
          "name": "stdout",
          "text": [
            "Epoch 27 completed in 1.09 seconds\n",
            "Epoch [27/50], Overfit Loss: 0.5852, Overfit Accuracy: 0.7400\n"
          ]
        },
        {
          "output_type": "stream",
          "name": "stderr",
          "text": [
            "Epochs:  56%|█████▌    | 28/50 [00:38<00:24,  1.10s/it]"
          ]
        },
        {
          "output_type": "stream",
          "name": "stdout",
          "text": [
            "Epoch 28 completed in 1.08 seconds\n",
            "Epoch [28/50], Overfit Loss: 0.4731, Overfit Accuracy: 0.8500\n"
          ]
        },
        {
          "output_type": "stream",
          "name": "stderr",
          "text": [
            "Epochs:  58%|█████▊    | 29/50 [00:39<00:23,  1.10s/it]"
          ]
        },
        {
          "output_type": "stream",
          "name": "stdout",
          "text": [
            "Epoch 29 completed in 1.09 seconds\n",
            "Epoch [29/50], Overfit Loss: 0.5629, Overfit Accuracy: 0.7700\n"
          ]
        },
        {
          "output_type": "stream",
          "name": "stderr",
          "text": [
            "Epochs:  60%|██████    | 30/50 [00:40<00:22,  1.10s/it]"
          ]
        },
        {
          "output_type": "stream",
          "name": "stdout",
          "text": [
            "Epoch 30 completed in 1.09 seconds\n",
            "Epoch [30/50], Overfit Loss: 0.4693, Overfit Accuracy: 0.8000\n"
          ]
        },
        {
          "output_type": "stream",
          "name": "stderr",
          "text": [
            "Epochs:  62%|██████▏   | 31/50 [00:41<00:20,  1.10s/it]"
          ]
        },
        {
          "output_type": "stream",
          "name": "stdout",
          "text": [
            "Epoch 31 completed in 1.08 seconds\n",
            "Epoch [31/50], Overfit Loss: 0.4906, Overfit Accuracy: 0.8200\n"
          ]
        },
        {
          "output_type": "stream",
          "name": "stderr",
          "text": [
            "Epochs:  64%|██████▍   | 32/50 [00:43<00:19,  1.10s/it]"
          ]
        },
        {
          "output_type": "stream",
          "name": "stdout",
          "text": [
            "Epoch 32 completed in 1.08 seconds\n",
            "Epoch [32/50], Overfit Loss: 0.3116, Overfit Accuracy: 0.8900\n"
          ]
        },
        {
          "output_type": "stream",
          "name": "stderr",
          "text": [
            "Epochs:  66%|██████▌   | 33/50 [00:44<00:18,  1.10s/it]"
          ]
        },
        {
          "output_type": "stream",
          "name": "stdout",
          "text": [
            "Epoch 33 completed in 1.08 seconds\n",
            "Epoch [33/50], Overfit Loss: 0.1914, Overfit Accuracy: 0.9100\n"
          ]
        },
        {
          "output_type": "stream",
          "name": "stderr",
          "text": [
            "Epochs:  68%|██████▊   | 34/50 [00:45<00:17,  1.10s/it]"
          ]
        },
        {
          "output_type": "stream",
          "name": "stdout",
          "text": [
            "Epoch 34 completed in 1.09 seconds\n",
            "Epoch [34/50], Overfit Loss: 0.3410, Overfit Accuracy: 0.8700\n"
          ]
        },
        {
          "output_type": "stream",
          "name": "stderr",
          "text": [
            "Epochs:  70%|███████   | 35/50 [00:46<00:16,  1.10s/it]"
          ]
        },
        {
          "output_type": "stream",
          "name": "stdout",
          "text": [
            "Epoch 35 completed in 1.09 seconds\n",
            "Epoch [35/50], Overfit Loss: 0.3460, Overfit Accuracy: 0.9000\n"
          ]
        },
        {
          "output_type": "stream",
          "name": "stderr",
          "text": [
            "Epochs:  72%|███████▏  | 36/50 [00:47<00:15,  1.11s/it]"
          ]
        },
        {
          "output_type": "stream",
          "name": "stdout",
          "text": [
            "Epoch 36 completed in 1.10 seconds\n",
            "Epoch [36/50], Overfit Loss: 0.3618, Overfit Accuracy: 0.8600\n"
          ]
        },
        {
          "output_type": "stream",
          "name": "stderr",
          "text": [
            "Epochs:  74%|███████▍  | 37/50 [00:48<00:14,  1.11s/it]"
          ]
        },
        {
          "output_type": "stream",
          "name": "stdout",
          "text": [
            "Epoch 37 completed in 1.09 seconds\n",
            "Epoch [37/50], Overfit Loss: 0.3656, Overfit Accuracy: 0.8300\n"
          ]
        },
        {
          "output_type": "stream",
          "name": "stderr",
          "text": [
            "Epochs:  76%|███████▌  | 38/50 [00:49<00:13,  1.11s/it]"
          ]
        },
        {
          "output_type": "stream",
          "name": "stdout",
          "text": [
            "Epoch 38 completed in 1.09 seconds\n",
            "Epoch [38/50], Overfit Loss: 0.2777, Overfit Accuracy: 0.9100\n"
          ]
        },
        {
          "output_type": "stream",
          "name": "stderr",
          "text": [
            "Epochs:  78%|███████▊  | 39/50 [00:50<00:12,  1.11s/it]"
          ]
        },
        {
          "output_type": "stream",
          "name": "stdout",
          "text": [
            "Epoch 39 completed in 1.10 seconds\n",
            "Epoch [39/50], Overfit Loss: 0.2090, Overfit Accuracy: 0.9700\n"
          ]
        },
        {
          "output_type": "stream",
          "name": "stderr",
          "text": [
            "Epochs:  80%|████████  | 40/50 [00:51<00:11,  1.11s/it]"
          ]
        },
        {
          "output_type": "stream",
          "name": "stdout",
          "text": [
            "Epoch 40 completed in 1.10 seconds\n",
            "Epoch [40/50], Overfit Loss: 0.4753, Overfit Accuracy: 0.8600\n"
          ]
        },
        {
          "output_type": "stream",
          "name": "stderr",
          "text": [
            "Epochs:  82%|████████▏ | 41/50 [00:53<00:09,  1.11s/it]"
          ]
        },
        {
          "output_type": "stream",
          "name": "stdout",
          "text": [
            "Epoch 41 completed in 1.10 seconds\n",
            "Epoch [41/50], Overfit Loss: 0.2894, Overfit Accuracy: 0.9200\n"
          ]
        },
        {
          "output_type": "stream",
          "name": "stderr",
          "text": [
            "Epochs:  84%|████████▍ | 42/50 [00:54<00:08,  1.11s/it]"
          ]
        },
        {
          "output_type": "stream",
          "name": "stdout",
          "text": [
            "Epoch 42 completed in 1.09 seconds\n",
            "Epoch [42/50], Overfit Loss: 0.3883, Overfit Accuracy: 0.8700\n"
          ]
        },
        {
          "output_type": "stream",
          "name": "stderr",
          "text": [
            "Epochs:  86%|████████▌ | 43/50 [00:55<00:07,  1.11s/it]"
          ]
        },
        {
          "output_type": "stream",
          "name": "stdout",
          "text": [
            "Epoch 43 completed in 1.09 seconds\n",
            "Epoch [43/50], Overfit Loss: 0.2486, Overfit Accuracy: 0.9100\n"
          ]
        },
        {
          "output_type": "stream",
          "name": "stderr",
          "text": [
            "Epochs:  88%|████████▊ | 44/50 [00:56<00:06,  1.11s/it]"
          ]
        },
        {
          "output_type": "stream",
          "name": "stdout",
          "text": [
            "Epoch 44 completed in 1.10 seconds\n",
            "Epoch [44/50], Overfit Loss: 0.1422, Overfit Accuracy: 0.9500\n"
          ]
        },
        {
          "output_type": "stream",
          "name": "stderr",
          "text": [
            "Epochs:  90%|█████████ | 45/50 [00:57<00:05,  1.11s/it]"
          ]
        },
        {
          "output_type": "stream",
          "name": "stdout",
          "text": [
            "Epoch 45 completed in 1.10 seconds\n",
            "Epoch [45/50], Overfit Loss: 0.2208, Overfit Accuracy: 0.9200\n"
          ]
        },
        {
          "output_type": "stream",
          "name": "stderr",
          "text": [
            "Epochs:  92%|█████████▏| 46/50 [00:58<00:04,  1.11s/it]"
          ]
        },
        {
          "output_type": "stream",
          "name": "stdout",
          "text": [
            "Epoch 46 completed in 1.11 seconds\n",
            "Epoch [46/50], Overfit Loss: 0.2078, Overfit Accuracy: 0.9300\n"
          ]
        },
        {
          "output_type": "stream",
          "name": "stderr",
          "text": [
            "Epochs:  94%|█████████▍| 47/50 [00:59<00:03,  1.12s/it]"
          ]
        },
        {
          "output_type": "stream",
          "name": "stdout",
          "text": [
            "Epoch 47 completed in 1.11 seconds\n",
            "Epoch [47/50], Overfit Loss: 0.2178, Overfit Accuracy: 0.9300\n"
          ]
        },
        {
          "output_type": "stream",
          "name": "stderr",
          "text": [
            "Epochs:  96%|█████████▌| 48/50 [01:00<00:02,  1.12s/it]"
          ]
        },
        {
          "output_type": "stream",
          "name": "stdout",
          "text": [
            "Epoch 48 completed in 1.10 seconds\n",
            "Epoch [48/50], Overfit Loss: 0.2566, Overfit Accuracy: 0.9200\n"
          ]
        },
        {
          "output_type": "stream",
          "name": "stderr",
          "text": [
            "Epochs:  98%|█████████▊| 49/50 [01:01<00:01,  1.12s/it]"
          ]
        },
        {
          "output_type": "stream",
          "name": "stdout",
          "text": [
            "Epoch 49 completed in 1.10 seconds\n",
            "Epoch [49/50], Overfit Loss: 0.2050, Overfit Accuracy: 0.9400\n"
          ]
        },
        {
          "output_type": "stream",
          "name": "stderr",
          "text": [
            "Epochs: 100%|██████████| 50/50 [01:03<00:00,  1.26s/it]"
          ]
        },
        {
          "output_type": "stream",
          "name": "stdout",
          "text": [
            "Epoch 50 completed in 1.10 seconds\n",
            "Epoch [50/50], Overfit Loss: 0.3488, Overfit Accuracy: 0.8700\n"
          ]
        },
        {
          "output_type": "stream",
          "name": "stderr",
          "text": [
            "\n"
          ]
        }
      ]
    },
    {
      "cell_type": "markdown",
      "source": [
        "# Testing"
      ],
      "metadata": {
        "id": "a2LBmvWCqUqF"
      }
    },
    {
      "cell_type": "code",
      "source": [
        "import os\n",
        "import cv2 as cv\n",
        "import numpy as np\n",
        "import torch\n",
        "import torch.nn as nn\n",
        "from torchvision.transforms import ToTensor\n",
        "\n",
        "device = \"cuda\" if torch.cuda.is_available() else \"cpu\"\n",
        "\n",
        "people = ['ben_afflek', 'elton_john', 'jerry_seinfeld', 'madonna', 'mindy_kaling']\n",
        "DIR = r'/content/drive/MyDrive/Faces/val' # Directory of the validation images\n",
        "\n",
        "haar_cascade = cv.CascadeClassifier('/content/haarcascade_frontalface_default.xml')\n",
        "\n",
        "val_dataset = [] # List of tuples (image, label)\n",
        "def create_val_dataset():\n",
        "    \"\"\"\n",
        "    Loops over every folder in the base folder(training folder).\n",
        "    And inside that folder, loop over every image and grab that face in that image\n",
        "    and add it to the training set.\n",
        "    \"\"\"\n",
        "    for person in people:\n",
        "        \"\"\"Loop over every folder\"\"\"\n",
        "        path = os.path.join(DIR, person) # Path to the folder of the person\n",
        "        label = people.index(person) # Label of the person\n",
        "\n",
        "        for img in os.listdir(path):\n",
        "            \"\"\"Loop over every image\"\"\"\n",
        "            img_path = os.path.join(path, img) # Path to the image\n",
        "\n",
        "            img_array = cv.imread(img_path) # Read the image\n",
        "\n",
        "            faces_rect = haar_cascade.detectMultiScale(img_array, scaleFactor=1.1, minNeighbors=4)\n",
        "\n",
        "            for (x,y,w,h) in faces_rect:\n",
        "                \"\"\"Grab the face in the image\"\"\"\n",
        "                faces_roi = img_array[y:y+h, x:x+w] # Region of interest\n",
        "                faces_roi = cv.resize(faces_roi, (224,224), interpolation=cv.INTER_NEAREST)\n",
        "                val_dataset.append((faces_roi, label))\n",
        "\n",
        "# Create the training set\n",
        "create_val_dataset()\n",
        "\n",
        "# Convert the images to tensors\n",
        "val_dataset = [(ToTensor()(img), label) for img, label in val_dataset]\n",
        "\n",
        "# Create the training loader\n",
        "from torch.utils.data import DataLoader\n",
        "test_loader = torch.utils.data.DataLoader(val_dataset, batch_size=10, shuffle=False)\n"
      ],
      "metadata": {
        "id": "lozauPrqpnbs"
      },
      "execution_count": 9,
      "outputs": []
    },
    {
      "cell_type": "code",
      "source": [
        "len(val_dataset)"
      ],
      "metadata": {
        "colab": {
          "base_uri": "https://localhost:8080/"
        },
        "id": "xdiSR_BWq6Au",
        "outputId": "cf180125-7de9-4e37-95ab-9d25995cc520"
      },
      "execution_count": 10,
      "outputs": [
        {
          "output_type": "execute_result",
          "data": {
            "text/plain": [
              "26"
            ]
          },
          "metadata": {},
          "execution_count": 10
        }
      ]
    },
    {
      "cell_type": "code",
      "source": [
        "iterator = iter(test_loader)\n",
        "feature, label = next(iterator)\n",
        "feature.shape"
      ],
      "metadata": {
        "colab": {
          "base_uri": "https://localhost:8080/"
        },
        "id": "YS4YdVNtrfH-",
        "outputId": "b3a9cd28-6b7e-4c2a-9210-4835e2cfef39"
      },
      "execution_count": 11,
      "outputs": [
        {
          "output_type": "execute_result",
          "data": {
            "text/plain": [
              "torch.Size([10, 3, 224, 224])"
            ]
          },
          "metadata": {},
          "execution_count": 11
        }
      ]
    },
    {
      "cell_type": "code",
      "source": [
        "correct = 0\n",
        "total = 0\n",
        "\n",
        "with torch.no_grad(): # Disabling gradient calculation, since testing doesnot require weight update\n",
        "    model.eval() # Set the model to evaluation mode\n",
        "\n",
        "    for inputs, labels in test_loader:\n",
        "      # Move the inputs and labels to the selected device\n",
        "        inputs = inputs.to(device)\n",
        "        labels = labels.to(device)\n",
        "\n",
        "        # Forward pass\n",
        "        outputs = model(inputs)\n",
        "        _, predicted = torch.max(outputs.data, 1)\n",
        "\n",
        "        total += labels.size(0)\n",
        "        correct += (predicted == labels).sum().item()\n",
        "\n",
        "accuracy = 100 * correct / total\n",
        "print(f\"Test Accuracy: {accuracy:.2f}%\")"
      ],
      "metadata": {
        "colab": {
          "base_uri": "https://localhost:8080/"
        },
        "id": "husU0C8XruuC",
        "outputId": "8c9d2c3c-e09a-48a5-f1ff-4dc9a083664c"
      },
      "execution_count": 12,
      "outputs": [
        {
          "output_type": "stream",
          "name": "stdout",
          "text": [
            "Test Accuracy: 50.00%\n"
          ]
        }
      ]
    },
    {
      "cell_type": "markdown",
      "source": [
        "# Test on single image"
      ],
      "metadata": {
        "id": "AmmJqrM9tx-b"
      }
    },
    {
      "cell_type": "code",
      "source": [
        "import numpy as np\n",
        "import cv2 as cv\n",
        "from google.colab.patches import cv2_imshow\n",
        "import torch\n",
        "from torchvision.transforms import ToTensor\n",
        "\n",
        "haar_cascade = cv.CascadeClassifier('/content/haarcascade_frontalface_default.xml')\n",
        "\n",
        "people = ['Ben Afflek', 'Elton John', 'Jerry Seinfield', 'Madonna', 'Mindy Kaling']\n",
        "\n",
        "# Load the model\n",
        "model = ResNet50(image_channels=3, num_classes=5)\n",
        "model.load_state_dict(torch.load(\"/content/resnet50.pth\", map_location=torch.device('cpu')))\n",
        "\n",
        "# Test on the image\n",
        "img = cv.imread(r'/content/drive/MyDrive/Faces/val/jerry_seinfeld/2.jpg')\n",
        "faces_rect = haar_cascade.detectMultiScale(img, scaleFactor=1.1, minNeighbors=4)\n",
        "\n",
        "for (x,y,w,h) in faces_rect:\n",
        "    faces_roi = img[y:y+h, x:x+w] # Region of interest\n",
        "    faces_roi = cv.resize(faces_roi, (224,224), interpolation=cv.INTER_NEAREST) # Resize the image\n",
        "    faces_roi = ToTensor()(faces_roi) # Convert to tensor\n",
        "    faces_roi = faces_roi.unsqueeze(0) # Add a batch dimension\n",
        "\n",
        "    # Pass the image to the model\n",
        "    model.eval()\n",
        "    with torch.no_grad():\n",
        "        preds = model(faces_roi)\n",
        "\n",
        "    _, predicted = torch.max(preds, dim=1)\n",
        "\n",
        "    # Get the predicted class probabilities\n",
        "    probabilities = torch.nn.functional.softmax(preds, dim=1)[0] * 100\n",
        "    print(f'Label = {people[predicted]} with confidence {probabilities[predicted].item()}%')\n",
        "\n",
        "    cv.putText(img, str(people[predicted]), (20,20), cv.FONT_HERSHEY_COMPLEX, 1.0, (0, 255, 0), thickness=1)\n",
        "    cv.rectangle(img, (x,y), (x+w,y+h), (0,255,0), thickness=2)\n",
        "\n",
        "cv2_imshow(img)\n"
      ],
      "metadata": {
        "colab": {
          "base_uri": "https://localhost:8080/",
          "height": 294
        },
        "id": "rQ6QmyBAr-SW",
        "outputId": "8947adbf-f8ea-4c50-8b6e-da231cb889c7"
      },
      "execution_count": 15,
      "outputs": [
        {
          "output_type": "stream",
          "name": "stdout",
          "text": [
            "Label = Jerry Seinfield with confidence 77.91860961914062%\n"
          ]
        },
        {
          "output_type": "display_data",
          "data": {
            "text/plain": [
              "<PIL.Image.Image image mode=RGB size=240x260 at 0x7F6085346CE0>"
            ],
            "image/png": "[encoded data removed]"
          },
          "metadata": {}
        }
      ]
    }
  ]
}